{
 "cells": [
  {
   "cell_type": "code",
   "execution_count": 22,
   "id": "latest-analyst",
   "metadata": {},
   "outputs": [],
   "source": [
    "import env\n",
    "import acquire\n",
    "import requests as req\n",
    "import pandas as pd\n",
    "import utilities as utils\n",
    "import re"
   ]
  },
  {
   "cell_type": "code",
   "execution_count": 52,
   "id": "democratic-success",
   "metadata": {},
   "outputs": [],
   "source": [
    "bootcamp_readme_df.to_csv(env.data_path + \"coding_bootcamp_readme.csv\", index=False)"
   ]
  },
  {
   "cell_type": "code",
   "execution_count": 2,
   "id": "disabled-pride",
   "metadata": {},
   "outputs": [],
   "source": [
    "bootcamp_readme_df = pd.read_csv(env.data_path + \"coding_bootcamp_readme.csv\")"
   ]
  },
  {
   "cell_type": "code",
   "execution_count": 3,
   "id": "second-browser",
   "metadata": {},
   "outputs": [
    {
     "data": {
      "text/html": [
       "<div>\n",
       "<style scoped>\n",
       "    .dataframe tbody tr th:only-of-type {\n",
       "        vertical-align: middle;\n",
       "    }\n",
       "\n",
       "    .dataframe tbody tr th {\n",
       "        vertical-align: top;\n",
       "    }\n",
       "\n",
       "    .dataframe thead th {\n",
       "        text-align: right;\n",
       "    }\n",
       "</style>\n",
       "<table border=\"1\" class=\"dataframe\">\n",
       "  <thead>\n",
       "    <tr style=\"text-align: right;\">\n",
       "      <th></th>\n",
       "      <th>repo</th>\n",
       "      <th>language</th>\n",
       "      <th>readme_contents</th>\n",
       "    </tr>\n",
       "  </thead>\n",
       "  <tbody>\n",
       "    <tr>\n",
       "      <th>0</th>\n",
       "      <td>Pierian-Data/Complete-Python-3-Bootcamp</td>\n",
       "      <td>Jupyter Notebook</td>\n",
       "      <td># Complete-Python-3-Bootcamp\\nCourse Files for...</td>\n",
       "    </tr>\n",
       "    <tr>\n",
       "      <th>1</th>\n",
       "      <td>microsoft/frontend-bootcamp</td>\n",
       "      <td>TypeScript</td>\n",
       "      <td># Frontend Bootcamp / Days in the Web\\n\\n&gt; 🚨🚨 ...</td>\n",
       "    </tr>\n",
       "    <tr>\n",
       "      <th>2</th>\n",
       "      <td>vitorfs/bootcamp</td>\n",
       "      <td>CSS</td>\n",
       "      <td>Bootcamp\\n========\\n\\nAn enterprise oriented s...</td>\n",
       "    </tr>\n",
       "    <tr>\n",
       "      <th>3</th>\n",
       "      <td>jmportilla/Complete-Python-Bootcamp</td>\n",
       "      <td>Jupyter Notebook</td>\n",
       "      <td># Complete-Python-Bootcamp\\n\\n## Welcome to th...</td>\n",
       "    </tr>\n",
       "    <tr>\n",
       "      <th>4</th>\n",
       "      <td>rocketseat-education/bootcamp-gostack-desafios</td>\n",
       "      <td>NaN</td>\n",
       "      <td>&lt;img alt=\"GoStack\" src=\"https://storage.google...</td>\n",
       "    </tr>\n",
       "    <tr>\n",
       "      <th>...</th>\n",
       "      <td>...</td>\n",
       "      <td>...</td>\n",
       "      <td>...</td>\n",
       "    </tr>\n",
       "    <tr>\n",
       "      <th>993</th>\n",
       "      <td>jdcar/bootcamp-links</td>\n",
       "      <td>NaN</td>\n",
       "      <td># bootcamp-links\\nThe pinned resources from NU...</td>\n",
       "    </tr>\n",
       "    <tr>\n",
       "      <th>994</th>\n",
       "      <td>badjatya/web-bootcamp</td>\n",
       "      <td>HTML</td>\n",
       "      <td># web-bootcamp</td>\n",
       "    </tr>\n",
       "    <tr>\n",
       "      <th>995</th>\n",
       "      <td>arehmandev/Terraform-Bootcamp</td>\n",
       "      <td>HCL</td>\n",
       "      <td># DevOps Bootcamp: AWS-Terraform\\n\\nEach folde...</td>\n",
       "    </tr>\n",
       "    <tr>\n",
       "      <th>996</th>\n",
       "      <td>dbdoyle182/Bootcamp-Overflow</td>\n",
       "      <td>HTML</td>\n",
       "      <td># Bootcamp_Overflow\\n\\nAn application inspired...</td>\n",
       "    </tr>\n",
       "    <tr>\n",
       "      <th>997</th>\n",
       "      <td>BlockchainAtMcGill/bootcamp-shop</td>\n",
       "      <td>JavaScript</td>\n",
       "      <td># Pet Shop Truffle Box\\n\\nThis box has all you...</td>\n",
       "    </tr>\n",
       "  </tbody>\n",
       "</table>\n",
       "<p>998 rows × 3 columns</p>\n",
       "</div>"
      ],
      "text/plain": [
       "                                               repo          language  \\\n",
       "0           Pierian-Data/Complete-Python-3-Bootcamp  Jupyter Notebook   \n",
       "1                       microsoft/frontend-bootcamp        TypeScript   \n",
       "2                                  vitorfs/bootcamp               CSS   \n",
       "3               jmportilla/Complete-Python-Bootcamp  Jupyter Notebook   \n",
       "4    rocketseat-education/bootcamp-gostack-desafios               NaN   \n",
       "..                                              ...               ...   \n",
       "993                            jdcar/bootcamp-links               NaN   \n",
       "994                           badjatya/web-bootcamp              HTML   \n",
       "995                   arehmandev/Terraform-Bootcamp               HCL   \n",
       "996                    dbdoyle182/Bootcamp-Overflow              HTML   \n",
       "997                BlockchainAtMcGill/bootcamp-shop        JavaScript   \n",
       "\n",
       "                                       readme_contents  \n",
       "0    # Complete-Python-3-Bootcamp\\nCourse Files for...  \n",
       "1    # Frontend Bootcamp / Days in the Web\\n\\n> 🚨🚨 ...  \n",
       "2    Bootcamp\\n========\\n\\nAn enterprise oriented s...  \n",
       "3    # Complete-Python-Bootcamp\\n\\n## Welcome to th...  \n",
       "4    <img alt=\"GoStack\" src=\"https://storage.google...  \n",
       "..                                                 ...  \n",
       "993  # bootcamp-links\\nThe pinned resources from NU...  \n",
       "994                                     # web-bootcamp  \n",
       "995  # DevOps Bootcamp: AWS-Terraform\\n\\nEach folde...  \n",
       "996  # Bootcamp_Overflow\\n\\nAn application inspired...  \n",
       "997  # Pet Shop Truffle Box\\n\\nThis box has all you...  \n",
       "\n",
       "[998 rows x 3 columns]"
      ]
     },
     "execution_count": 3,
     "metadata": {},
     "output_type": "execute_result"
    }
   ],
   "source": [
    "bootcamp_readme_df"
   ]
  },
  {
   "cell_type": "code",
   "execution_count": 4,
   "id": "minute-objective",
   "metadata": {},
   "outputs": [
    {
     "name": "stdout",
     "output_type": "stream",
     "text": [
      "<class 'pandas.core.frame.DataFrame'>\n",
      "RangeIndex: 998 entries, 0 to 997\n",
      "Data columns (total 3 columns):\n",
      " #   Column           Non-Null Count  Dtype \n",
      "---  ------           --------------  ----- \n",
      " 0   repo             998 non-null    object\n",
      " 1   language         842 non-null    object\n",
      " 2   readme_contents  880 non-null    object\n",
      "dtypes: object(3)\n",
      "memory usage: 23.5+ KB\n"
     ]
    }
   ],
   "source": [
    "bootcamp_readme_df.info()"
   ]
  },
  {
   "cell_type": "code",
   "execution_count": 5,
   "id": "yellow-sweden",
   "metadata": {},
   "outputs": [
    {
     "name": "stdout",
     "output_type": "stream",
     "text": [
      "NaN values\n",
      "     rows  columns\n",
      "0       4        1\n",
      "1      15        1\n",
      "2      17        2\n",
      "3      19        1\n",
      "4      23        1\n",
      "..    ...      ...\n",
      "269   983        1\n",
      "270   987        1\n",
      "271   989        1\n",
      "272   990        1\n",
      "273   993        1\n",
      "\n",
      "[274 rows x 2 columns]\n",
      "--------------------------------\n",
      "Empty values\n",
      "   rows  columns\n",
      "0   514        2\n",
      "1   565        2\n",
      "2   635        2\n",
      "--------------------------------\n"
     ]
    }
   ],
   "source": [
    "positions = utils.nan_null_empty_check(bootcamp_readme_df)"
   ]
  },
  {
   "cell_type": "code",
   "execution_count": 8,
   "id": "european-combine",
   "metadata": {},
   "outputs": [
    {
     "data": {
      "text/html": [
       "<div>\n",
       "<style scoped>\n",
       "    .dataframe tbody tr th:only-of-type {\n",
       "        vertical-align: middle;\n",
       "    }\n",
       "\n",
       "    .dataframe tbody tr th {\n",
       "        vertical-align: top;\n",
       "    }\n",
       "\n",
       "    .dataframe thead th {\n",
       "        text-align: right;\n",
       "    }\n",
       "</style>\n",
       "<table border=\"1\" class=\"dataframe\">\n",
       "  <thead>\n",
       "    <tr style=\"text-align: right;\">\n",
       "      <th></th>\n",
       "      <th>repo</th>\n",
       "      <th>language</th>\n",
       "      <th>readme_contents</th>\n",
       "    </tr>\n",
       "  </thead>\n",
       "  <tbody>\n",
       "    <tr>\n",
       "      <th>4</th>\n",
       "      <td>rocketseat-education/bootcamp-gostack-desafios</td>\n",
       "      <td>NaN</td>\n",
       "      <td>&lt;img alt=\"GoStack\" src=\"https://storage.google...</td>\n",
       "    </tr>\n",
       "    <tr>\n",
       "      <th>15</th>\n",
       "      <td>panacloud/bootcamp-2020</td>\n",
       "      <td>NaN</td>\n",
       "      <td># Bootcamp 2020: Learn to Build Modern Full St...</td>\n",
       "    </tr>\n",
       "    <tr>\n",
       "      <th>17</th>\n",
       "      <td>golang-book/bootcamp-examples</td>\n",
       "      <td>Go</td>\n",
       "      <td>NaN</td>\n",
       "    </tr>\n",
       "    <tr>\n",
       "      <th>19</th>\n",
       "      <td>glaucia86/frontend-bootcamp-online</td>\n",
       "      <td>NaN</td>\n",
       "      <td># Front-End Bootcamp Online (Em Desenvolviment...</td>\n",
       "    </tr>\n",
       "    <tr>\n",
       "      <th>23</th>\n",
       "      <td>rocketseat-education/bootcamp-gostack-desafio-02</td>\n",
       "      <td>NaN</td>\n",
       "      <td>&lt;h1 align=\"center\"&gt;\\n  &lt;img alt=\"Fastfeet\" tit...</td>\n",
       "    </tr>\n",
       "    <tr>\n",
       "      <th>...</th>\n",
       "      <td>...</td>\n",
       "      <td>...</td>\n",
       "      <td>...</td>\n",
       "    </tr>\n",
       "    <tr>\n",
       "      <th>983</th>\n",
       "      <td>PacktPublishing/Linux-Administration-Bootcamp-...</td>\n",
       "      <td>NaN</td>\n",
       "      <td># Linux-Administration-Bootcamp-Go-from-Beginn...</td>\n",
       "    </tr>\n",
       "    <tr>\n",
       "      <th>987</th>\n",
       "      <td>1Fungi99/BootCamp</td>\n",
       "      <td>NaN</td>\n",
       "      <td># BootCamp</td>\n",
       "    </tr>\n",
       "    <tr>\n",
       "      <th>989</th>\n",
       "      <td>highkay/bootcamp</td>\n",
       "      <td>NaN</td>\n",
       "      <td># 前言\\n\\n这里记录了我平时工作学习中看到的比较深入的和有价值的文章，希望可以和团队里的...</td>\n",
       "    </tr>\n",
       "    <tr>\n",
       "      <th>990</th>\n",
       "      <td>JavierParral/Bootcamp</td>\n",
       "      <td>NaN</td>\n",
       "      <td># Bootcamp Credilikeme\\n\\nEl bootcamp de credi...</td>\n",
       "    </tr>\n",
       "    <tr>\n",
       "      <th>993</th>\n",
       "      <td>jdcar/bootcamp-links</td>\n",
       "      <td>NaN</td>\n",
       "      <td># bootcamp-links\\nThe pinned resources from NU...</td>\n",
       "    </tr>\n",
       "  </tbody>\n",
       "</table>\n",
       "<p>274 rows × 3 columns</p>\n",
       "</div>"
      ],
      "text/plain": [
       "                                                  repo language  \\\n",
       "4       rocketseat-education/bootcamp-gostack-desafios      NaN   \n",
       "15                             panacloud/bootcamp-2020      NaN   \n",
       "17                       golang-book/bootcamp-examples       Go   \n",
       "19                  glaucia86/frontend-bootcamp-online      NaN   \n",
       "23    rocketseat-education/bootcamp-gostack-desafio-02      NaN   \n",
       "..                                                 ...      ...   \n",
       "983  PacktPublishing/Linux-Administration-Bootcamp-...      NaN   \n",
       "987                                  1Fungi99/BootCamp      NaN   \n",
       "989                                   highkay/bootcamp      NaN   \n",
       "990                              JavierParral/Bootcamp      NaN   \n",
       "993                               jdcar/bootcamp-links      NaN   \n",
       "\n",
       "                                       readme_contents  \n",
       "4    <img alt=\"GoStack\" src=\"https://storage.google...  \n",
       "15   # Bootcamp 2020: Learn to Build Modern Full St...  \n",
       "17                                                 NaN  \n",
       "19   # Front-End Bootcamp Online (Em Desenvolviment...  \n",
       "23   <h1 align=\"center\">\\n  <img alt=\"Fastfeet\" tit...  \n",
       "..                                                 ...  \n",
       "983  # Linux-Administration-Bootcamp-Go-from-Beginn...  \n",
       "987                                         # BootCamp  \n",
       "989  # 前言\\n\\n这里记录了我平时工作学习中看到的比较深入的和有价值的文章，希望可以和团队里的...  \n",
       "990  # Bootcamp Credilikeme\\n\\nEl bootcamp de credi...  \n",
       "993  # bootcamp-links\\nThe pinned resources from NU...  \n",
       "\n",
       "[274 rows x 3 columns]"
      ]
     },
     "execution_count": 8,
     "metadata": {},
     "output_type": "execute_result"
    }
   ],
   "source": [
    "bootcamp_readme_df.iloc[positions['nan_positions'][0]]"
   ]
  },
  {
   "cell_type": "code",
   "execution_count": 9,
   "id": "federal-waterproof",
   "metadata": {},
   "outputs": [
    {
     "data": {
      "text/html": [
       "<div>\n",
       "<style scoped>\n",
       "    .dataframe tbody tr th:only-of-type {\n",
       "        vertical-align: middle;\n",
       "    }\n",
       "\n",
       "    .dataframe tbody tr th {\n",
       "        vertical-align: top;\n",
       "    }\n",
       "\n",
       "    .dataframe thead th {\n",
       "        text-align: right;\n",
       "    }\n",
       "</style>\n",
       "<table border=\"1\" class=\"dataframe\">\n",
       "  <thead>\n",
       "    <tr style=\"text-align: right;\">\n",
       "      <th></th>\n",
       "      <th>repo</th>\n",
       "      <th>language</th>\n",
       "      <th>readme_contents</th>\n",
       "    </tr>\n",
       "  </thead>\n",
       "  <tbody>\n",
       "    <tr>\n",
       "      <th>514</th>\n",
       "      <td>OpenMined/Bootcamps</td>\n",
       "      <td>NaN</td>\n",
       "      <td>\\n</td>\n",
       "    </tr>\n",
       "    <tr>\n",
       "      <th>565</th>\n",
       "      <td>MrEvil22/Udemy_Complete_Python_Bootcamp_Go_fro...</td>\n",
       "      <td>Jupyter Notebook</td>\n",
       "      <td>\\n</td>\n",
       "    </tr>\n",
       "    <tr>\n",
       "      <th>635</th>\n",
       "      <td>momentmuse/modern-js-bootcamp</td>\n",
       "      <td>JavaScript</td>\n",
       "      <td>\\n</td>\n",
       "    </tr>\n",
       "  </tbody>\n",
       "</table>\n",
       "</div>"
      ],
      "text/plain": [
       "                                                  repo          language  \\\n",
       "514                                OpenMined/Bootcamps               NaN   \n",
       "565  MrEvil22/Udemy_Complete_Python_Bootcamp_Go_fro...  Jupyter Notebook   \n",
       "635                      momentmuse/modern-js-bootcamp        JavaScript   \n",
       "\n",
       "    readme_contents  \n",
       "514              \\n  \n",
       "565              \\n  \n",
       "635              \\n  "
      ]
     },
     "execution_count": 9,
     "metadata": {},
     "output_type": "execute_result"
    }
   ],
   "source": [
    "bootcamp_readme_df.iloc[positions['empty_positions'][0]]"
   ]
  },
  {
   "cell_type": "code",
   "execution_count": 10,
   "id": "weighted-athletics",
   "metadata": {},
   "outputs": [],
   "source": [
    "drop_rows = list(positions['empty_positions'][0]) + list(positions['nan_positions'][0])\n",
    "drop_rows = list(set(drop_rows))"
   ]
  },
  {
   "cell_type": "code",
   "execution_count": 11,
   "id": "widespread-stick",
   "metadata": {},
   "outputs": [],
   "source": [
    "bootcamp_readme_df = bootcamp_readme_df.drop(index=drop_rows)"
   ]
  },
  {
   "cell_type": "code",
   "execution_count": 12,
   "id": "statistical-finding",
   "metadata": {},
   "outputs": [
    {
     "name": "stdout",
     "output_type": "stream",
     "text": [
      "<class 'pandas.core.frame.DataFrame'>\n",
      "Int64Index: 732 entries, 0 to 997\n",
      "Data columns (total 3 columns):\n",
      " #   Column           Non-Null Count  Dtype \n",
      "---  ------           --------------  ----- \n",
      " 0   repo             732 non-null    object\n",
      " 1   language         732 non-null    object\n",
      " 2   readme_contents  732 non-null    object\n",
      "dtypes: object(3)\n",
      "memory usage: 22.9+ KB\n"
     ]
    }
   ],
   "source": [
    "bootcamp_readme_df.info()"
   ]
  },
  {
   "cell_type": "code",
   "execution_count": 13,
   "id": "relevant-discrimination",
   "metadata": {},
   "outputs": [
    {
     "data": {
      "text/plain": [
       "JavaScript                 184\n",
       "Jupyter Notebook           157\n",
       "HTML                        99\n",
       "Python                      73\n",
       "Java                        37\n",
       "C#                          24\n",
       "Shell                       23\n",
       "CSS                         14\n",
       "TypeScript                  13\n",
       "Ruby                         9\n",
       "PHP                          9\n",
       "TeX                          8\n",
       "C                            8\n",
       "Kotlin                       7\n",
       "C++                          6\n",
       "PowerShell                   5\n",
       "HCL                          5\n",
       "Scala                        5\n",
       "Clojure                      5\n",
       "Objective-C                  4\n",
       "R                            4\n",
       "Go                           4\n",
       "Makefile                     3\n",
       "Dockerfile                   3\n",
       "Swift                        2\n",
       "Groovy                       2\n",
       "Dart                         2\n",
       "Processing                   2\n",
       "SWIG                         1\n",
       "SCSS                         1\n",
       "Jinja                        1\n",
       "Lasso                        1\n",
       "Cuda                         1\n",
       "Arduino                      1\n",
       "ooc                          1\n",
       "FORTRAN                      1\n",
       "ReScript                     1\n",
       "Matlab                       1\n",
       "Vue                          1\n",
       "Rouge                        1\n",
       "OCaml                        1\n",
       "AutoHotkey                   1\n",
       "GCC Machine Description      1\n",
       "Name: language, dtype: int64"
      ]
     },
     "execution_count": 13,
     "metadata": {},
     "output_type": "execute_result"
    }
   ],
   "source": [
    "bootcamp_readme_df.language.value_counts()"
   ]
  },
  {
   "cell_type": "code",
   "execution_count": 19,
   "id": "adequate-gibraltar",
   "metadata": {},
   "outputs": [],
   "source": [
    "bootcamp_readme_df.readme_contents = bootcamp_readme_df.readme_contents.apply(utils.nlp_basic_clean)"
   ]
  },
  {
   "cell_type": "code",
   "execution_count": 24,
   "id": "stuffed-intro",
   "metadata": {},
   "outputs": [],
   "source": [
    "# Basic clean did not remove new line characters so remove them here.\n",
    "bootcamp_readme_df.readme_contents = bootcamp_readme_df.readme_contents.apply(lambda readme : re.sub(r\"\\n\", \" \", readme))"
   ]
  },
  {
   "cell_type": "code",
   "execution_count": 26,
   "id": "worldwide-liechtenstein",
   "metadata": {},
   "outputs": [],
   "source": [
    "bootcamp_readme_df.readme_contents = bootcamp_readme_df.readme_contents.apply(utils.nlp_tokenize)"
   ]
  },
  {
   "cell_type": "code",
   "execution_count": 28,
   "id": "hired-tucson",
   "metadata": {},
   "outputs": [],
   "source": [
    "bootcamp_readme_df.readme_contents = bootcamp_readme_df.readme_contents.apply(utils.nlp_remove_stopwords)"
   ]
  },
  {
   "cell_type": "code",
   "execution_count": 31,
   "id": "focal-variable",
   "metadata": {},
   "outputs": [],
   "source": [
    "bootcamp_readme_df.readme_contents = bootcamp_readme_df.readme_contents.apply(utils.nlp_lemmatize)"
   ]
  },
  {
   "cell_type": "code",
   "execution_count": null,
   "id": "hindu-carolina",
   "metadata": {},
   "outputs": [],
   "source": []
  }
 ],
 "metadata": {
  "kernelspec": {
   "display_name": "Python 3",
   "language": "python",
   "name": "python3"
  },
  "language_info": {
   "codemirror_mode": {
    "name": "ipython",
    "version": 3
   },
   "file_extension": ".py",
   "mimetype": "text/x-python",
   "name": "python",
   "nbconvert_exporter": "python",
   "pygments_lexer": "ipython3",
   "version": "3.8.5"
  }
 },
 "nbformat": 4,
 "nbformat_minor": 5
}
